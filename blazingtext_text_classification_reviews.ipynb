{
 "cells": [
  {
   "cell_type": "code",
   "execution_count": null,
   "metadata": {},
   "outputs": [],
   "source": [
    "### Introduction and Initial Set Up\n",
    "We'll use blessing test to build our reviews multi classifier"
   ]
  },
  {
   "cell_type": "code",
   "execution_count": 63,
   "metadata": {
    "isConfigCell": true
   },
   "outputs": [
    {
     "name": "stdout",
     "output_type": "stream",
     "text": [
      "arn:aws:iam::023375022819:role/service-role/AmazonSageMaker-ExecutionRole-20191220T213935\n",
      "phdata-nlp-s3-bucket\n"
     ]
    }
   ],
   "source": [
    "import sagemaker\n",
    "from sagemaker import get_execution_role\n",
    "import json\n",
    "import boto3\n",
    "\n",
    "sess = sagemaker.Session()\n",
    "\n",
    "role = get_execution_role()\n",
    "print(role) \n",
    "\n",
    "bucket = 'phdata-nlp-s3-bucket' \n",
    "print(bucket)\n",
    "prefix = 'blazingtext/supervised' "
   ]
  },
  {
   "cell_type": "markdown",
   "metadata": {},
   "source": [
    "### Data Preparation\n",
    "\n"
   ]
  },
  {
   "cell_type": "code",
   "execution_count": 64,
   "metadata": {},
   "outputs": [
    {
     "name": "stdout",
     "output_type": "stream",
     "text": [
      "download: s3://phdata-nlp-s3-bucket/labelled_reviews_short.csv to ./labelled_reviews_short.csv\n"
     ]
    }
   ],
   "source": [
    "!aws s3 cp s3://phdata-nlp-s3-bucket/labelled_reviews_short.csv `pwd`\n"
   ]
  },
  {
   "cell_type": "code",
   "execution_count": 65,
   "metadata": {},
   "outputs": [
    {
     "name": "stdout",
     "output_type": "stream",
     "text": [
      ",title_and_review,topic\r\n",
      "0,\"__label__unsatisfied Umm....Get a life....a REAL one This is corny. People...go get some excercise. Talk to REAL people. Visit REAL places. Throw a REAL party. Dont buy this game and then sit around letting the whole REAL world go by. Seriously, if you arent twelve years old with a 7 pm curfew, there is no reason to sit around doing this nonsense all day.\",unsatisfied\r\n",
      "1,\"__label__book summary Yukkk! Please don't think this is really Dean Koontz The Door to December is the newest Koontz audio book in my local library system and I thought it would be up up his usual standards. Was I mistaken! Creepy but not mysterious should be an oxymoron but that describes this book. Child abuse and S&M; does not really make for entertainment, even in Koontz's hands. I felt depressed after finishing this book because there seemed no hope for the characters nor purpose to the story except for a generalized fear of the government.After Odd Thomas, The Face, Watchers, and other Koontz wonders, I was beyond disappointed. This book was originally published in 1985 under another name and I can only hope the author has left this junk behind. Thank goodness for George Guidell. He made listening bearable. I probably would not have finished a text version.Please Dean, even Steven King learned not to torture kids.(See Cujo.)\",book summary\r\n"
     ]
    }
   ],
   "source": [
    "!head labelled_reviews_short.csv -n 3"
   ]
  },
  {
   "cell_type": "markdown",
   "metadata": {},
   "source": [
    "Inspection "
   ]
  },
  {
   "cell_type": "code",
   "execution_count": 67,
   "metadata": {},
   "outputs": [],
   "source": [
    "import pandas as pd\n",
    "\n",
    "\n",
    "reviews = pd.read_csv('labelled_reviews_short.csv')['title_and_review']\n"
   ]
  },
  {
   "cell_type": "code",
   "execution_count": 76,
   "metadata": {
    "scrolled": true
   },
   "outputs": [
    {
     "name": "stdout",
     "output_type": "stream",
     "text": [
      "training set size = 252000\t\t test set size =108000\n"
     ]
    }
   ],
   "source": [
    "#split data into 70% train and 30% test\n",
    "train_size = round(0.7 * len(reviews))\n",
    "train = reviews[:train_size]\n",
    "test = reviews[train_size:]\n",
    " \n",
    "train.to_csv(\"reviews.train.csv\", index=False, header=True)\n",
    "test.to_csv(\"reviews.test.csv\", index=False, header=True)\n",
    "\n",
    "print(\"training set size = \" + str(len(train) ) + \"\\t\\t test set size =\" + str ( len(test) ) )"
   ]
  },
  {
   "cell_type": "code",
   "execution_count": 77,
   "metadata": {},
   "outputs": [
    {
     "name": "stdout",
     "output_type": "stream",
     "text": [
      "title_and_review\r\n",
      "\"__label__unsatisfied Umm....Get a life....a REAL one This is corny. People...go get some excercise. Talk to REAL people. Visit REAL places. Throw a REAL party. Dont buy this game and then sit around letting the whole REAL world go by. Seriously, if you arent twelve years old with a 7 pm curfew, there is no reason to sit around doing this nonsense all day.\"\r\n",
      "\"__label__book summary Yukkk! Please don't think this is really Dean Koontz The Door to December is the newest Koontz audio book in my local library system and I thought it would be up up his usual standards. Was I mistaken! Creepy but not mysterious should be an oxymoron but that describes this book. Child abuse and S&M; does not really make for entertainment, even in Koontz's hands. I felt depressed after finishing this book because there seemed no hope for the characters nor purpose to the story except for a generalized fear of the government.After Odd Thomas, The Face, Watchers, and other Koontz wonders, I was beyond disappointed. This book was originally published in 1985 under another name and I can only hope the author has left this junk behind. Thank goodness for George Guidell. He made listening bearable. I probably would not have finished a text version.Please Dean, even Steven King learned not to torture kids.(See Cujo.)\"\r\n"
     ]
    }
   ],
   "source": [
    "!head reviews.train.csv -n 3\n"
   ]
  },
  {
   "cell_type": "code",
   "execution_count": 78,
   "metadata": {},
   "outputs": [
    {
     "name": "stdout",
     "output_type": "stream",
     "text": [
      "title_and_review\r\n",
      "__label__unsatisfied Good begining but near end it got boring that is all I have to say. I never even finished the book it was too boring. The beginning is cool but the end (no offense) sounds like an episode of Dora the Explorer. A magical merry go round......seriously? I could just here the Dora the Explorer theme song in my head as I was reading it....do do do do do dora do do do do do dora dora dora dora the explorer.......\r\n",
      "\"__label__media LMAO!!!!! Oh...oh my god....when I listened to those samples I just had to say something. I was shocked at the number of people who thought this album 'rocked' or whatever. It's so bad...it's good. I laughed for over 3 hours listening to 'It's Halloween'....what the hell is this? Drums being played at random while the guitarist (i feel bad giving her this name) played worse then maybe my dog, while the bloody vocalist is drunk and on drugs or something! I mean come on people, what's with this stupid [stuff]?Never in my life have I heard something as bad. Never.Stay away....\"\r\n"
     ]
    }
   ],
   "source": [
    "!head reviews.test.csv  -n 3\n"
   ]
  },
  {
   "cell_type": "markdown",
   "metadata": {},
   "source": [
    "## Data Preprocessing\n"
   ]
  },
  {
   "cell_type": "markdown",
   "metadata": {},
   "source": [
    "Download and import pre pre processing libraries: nltk tokenizer and other libraries"
   ]
  },
  {
   "cell_type": "code",
   "execution_count": 80,
   "metadata": {},
   "outputs": [
    {
     "name": "stdout",
     "output_type": "stream",
     "text": [
      "[nltk_data] Downloading package punkt to /home/ec2-user/nltk_data...\n",
      "[nltk_data]   Package punkt is already up-to-date!\n"
     ]
    },
    {
     "data": {
      "text/plain": [
       "True"
      ]
     },
     "execution_count": 80,
     "metadata": {},
     "output_type": "execute_result"
    }
   ],
   "source": [
    "from random import shuffle\n",
    "import multiprocessing\n",
    "from multiprocessing import Pool\n",
    "import csv\n",
    "import nltk\n",
    "nltk.download('punkt')"
   ]
  },
  {
   "cell_type": "code",
   "execution_count": 81,
   "metadata": {},
   "outputs": [],
   "source": [
    "def transform_instance(row):\n",
    "    cur_row = []\n",
    "    cur_row.extend(nltk.word_tokenize(row[0].lower()))\n",
    "    return cur_row"
   ]
  },
  {
   "cell_type": "code",
   "execution_count": 82,
   "metadata": {},
   "outputs": [],
   "source": [
    "def preprocess(input_file, output_file, keep=1):\n",
    "    all_rows = []\n",
    "    with open(input_file, 'r') as csvinfile:\n",
    "        csv_reader = csv.reader(csvinfile, delimiter=',')\n",
    "        for row in csv_reader:\n",
    "            all_rows.append(row)\n",
    "    shuffle(all_rows)\n",
    "    all_rows = all_rows[:int(keep*len(all_rows))]\n",
    "    pool = Pool(processes=multiprocessing.cpu_count())\n",
    "    transformed_rows = pool.map(transform_instance, all_rows)\n",
    "    pool.close() \n",
    "    pool.join()\n",
    "    \n",
    "    with open(output_file, 'w') as csvoutfile:\n",
    "        csv_writer = csv.writer(csvoutfile, delimiter=' ', lineterminator='\\n')\n",
    "        csv_writer.writerows(transformed_rows)"
   ]
  },
  {
   "cell_type": "code",
   "execution_count": 83,
   "metadata": {},
   "outputs": [
    {
     "name": "stdout",
     "output_type": "stream",
     "text": [
      "CPU times: user 13.7 s, sys: 1.99 s, total: 15.7 s\n",
      "Wall time: 2min 1s\n"
     ]
    }
   ],
   "source": [
    "%%time\n",
    "\n",
    "# Preparing the training dataset\n",
    "preprocess('reviews.train.csv', 'reviews.train', keep=1)\n",
    "        \n",
    "# Preparing the validation dataset        \n",
    "preprocess('reviews.test.csv', 'reviews.validation')"
   ]
  },
  {
   "cell_type": "code",
   "execution_count": 84,
   "metadata": {},
   "outputs": [
    {
     "name": "stdout",
     "output_type": "stream",
     "text": [
      "__label__unsatisfied nelly nelly sucks now , he used to be good . but now he 's a stupid pop rapper and he 's singing like a faggot . do n't buy this album .\r\n",
      "__label__book summary not what it could have been . . . for me , the main problem in this book was that i did not really care about any of the characters . they were not particularly interesting or likeable , and i found myself skim reading large sections of dialogue and description . the author 's writing style , in my opinion , is distracting ; i found myself reading some sentences several times just to try and understand the point . i finished the book , because i do n't like to just give up on books , but it was a genuine effort to get to the end , and i will definitely not read any more books by this author .\r\n",
      "__label__unsatisfied the book disappoints readers who hate the borg . peter david starts out with a very good and very engaging plot- the origin of the planet killer , the second one , its mission and power , etc . he brings the readers ' hopes up , leading them to believe that perhaps , finally , there is a ship out there that can defeat the borgs ' cursed adaptability . but , alas , no , david chooses to burst their bubble . to me , the entire crux of the story was not the spirits of the planet killer , but its abilities , and how they might save the federation . the author of this book is clearly too timid to establish a precedent -- that is , the existance of a ship that can defeat the borg , with impunity , despite their adaptability . for those readers who are more concerned with the so-called `` background '' ( the politics , battles , inventions and etc . of star trek ) , this book is only worthy of burning . warn friends , please\r\n"
     ]
    }
   ],
   "source": [
    "!head reviews.train  -n 3\n"
   ]
  },
  {
   "cell_type": "code",
   "execution_count": 85,
   "metadata": {},
   "outputs": [
    {
     "name": "stdout",
     "output_type": "stream",
     "text": [
      "\"__label__movie Not worth seeing My wife and I tried, really tried to watch this movie, and it went nowhere. It was probably the biggest disappointment we've seen in years. Boring, and so s-l-o-w you feel like cutting off your own limbs for entertainment. We give this an all toes down.\"\r\n",
      "\"__label__book Black comedy at its worst Jon Keyes directed this black-humored and odd black comedy that is not scary or funny but dumb and dull with unlikable characters,a badly written plot,and a very low budget. The movie is very reminiscent to Paul Bartel's Eating Raoul and Bob Balaban's Parents but the movie is a couple that argue about everything and then the wife gets mad and harasses a teenage girl in the basement and then tries to kill her husband as well as the husband trying to kill her. For a low-budget black comedy this is a unwatchable mess with no redeeming values. Despite the title the movie takes place in the couple's dining room,kitchen,and the living room and the front cover has nothing to do with this movie because it is not a slasher flick but a bizarre soap opera-ish movie that looks like a Lifetime movie.\"\r\n",
      "\"__label__movie What the...????? Probably the lamest waste of my money. Wait... the lamest waste of time making, production money, etc... Except for a couple of cute guys in the film, this movie was an absolute just waste. The production value is worse than those movies I made in Junior High. Is there a way to do NO STARS? Like maybe negative stars?\"\r\n"
     ]
    }
   ],
   "source": [
    "!head reviews.test  -n 3\n"
   ]
  },
  {
   "cell_type": "markdown",
   "metadata": {},
   "source": [
    "Upload preprocessed train and validation files to s3 using the previosly specified prefix location\n"
   ]
  },
  {
   "cell_type": "code",
   "execution_count": 86,
   "metadata": {},
   "outputs": [
    {
     "name": "stdout",
     "output_type": "stream",
     "text": [
      "CPU times: user 1.48 s, sys: 1.02 s, total: 2.5 s\n",
      "Wall time: 1.88 s\n"
     ]
    }
   ],
   "source": [
    "%%time\n",
    "\n",
    "train_channel = prefix + '/train'\n",
    "validation_channel = prefix + '/validation'\n",
    "\n",
    "sess.upload_data(path='reviews.train', bucket=bucket, key_prefix=train_channel)\n",
    "sess.upload_data(path='reviews.validation', bucket=bucket, key_prefix=validation_channel)\n",
    "\n",
    "s3_train_data = 's3://{}/{}'.format(bucket, train_channel)\n",
    "s3_validation_data = 's3://{}/{}'.format(bucket, validation_channel)"
   ]
  },
  {
   "cell_type": "markdown",
   "metadata": {},
   "source": [
    "Setup an output location at S3, where the model artifact will be dumped. These artifacts are also the output of the algorithm's traning job."
   ]
  },
  {
   "cell_type": "code",
   "execution_count": 87,
   "metadata": {},
   "outputs": [],
   "source": [
    "s3_output_location = 's3://{}/{}/output'.format(bucket, prefix)"
   ]
  },
  {
   "cell_type": "markdown",
   "metadata": {},
   "source": [
    "## Training\n",
    "To begin, we create a ``sageMaker.estimator.Estimator`` object. This estimator will launch the training job."
   ]
  },
  {
   "cell_type": "code",
   "execution_count": 88,
   "metadata": {},
   "outputs": [],
   "source": [
    "region_name = boto3.Session().region_name"
   ]
  },
  {
   "cell_type": "code",
   "execution_count": 89,
   "metadata": {},
   "outputs": [
    {
     "name": "stdout",
     "output_type": "stream",
     "text": [
      "Using SageMaker BlazingText container: 811284229777.dkr.ecr.us-east-1.amazonaws.com/blazingtext:latest (us-east-1)\n"
     ]
    }
   ],
   "source": [
    "container = sagemaker.amazon.amazon_estimator.get_image_uri(region_name, \"blazingtext\", \"latest\")\n",
    "print('Using SageMaker BlazingText container: {} ({})'.format(container, region_name))"
   ]
  },
  {
   "cell_type": "markdown",
   "metadata": {},
   "source": [
    "## Training the BlazingText model for supervised text classification"
   ]
  },
  {
   "cell_type": "code",
   "execution_count": null,
   "metadata": {},
   "outputs": [],
   "source": [
    "Create estimator"
   ]
  },
  {
   "cell_type": "code",
   "execution_count": 90,
   "metadata": {},
   "outputs": [],
   "source": [
    "bt_model = sagemaker.estimator.Estimator(container,\n",
    "                                         role, \n",
    "                                         base_job_name='phdataBlazingText',\n",
    "                                         train_instance_count=1, \n",
    "                                         train_instance_type='ml.c4.4xlarge',\n",
    "                                         train_volume_size = 30,\n",
    "                                         train_max_run = 360000,\n",
    "                                         input_mode= 'File',\n",
    "                                         output_path=s3_output_location,\n",
    "                                         sagemaker_session=sess)"
   ]
  },
  {
   "cell_type": "markdown",
   "metadata": {},
   "source": [
    "Specify hyperparameters"
   ]
  },
  {
   "cell_type": "code",
   "execution_count": 91,
   "metadata": {},
   "outputs": [],
   "source": [
    "bt_model.set_hyperparameters(mode=\"supervised\",\n",
    "                            epochs=10,\n",
    "                            min_count=2,\n",
    "                            learning_rate=0.05,\n",
    "                            vector_dim=10,\n",
    "                            early_stopping=True,\n",
    "                            patience=4,\n",
    "                            min_epochs=5,\n",
    "                            word_ngrams=2)"
   ]
  },
  {
   "cell_type": "markdown",
   "metadata": {},
   "source": [
    "Now that the hyper-parameters are setup, let us prepare the handshake between our data channels and the algorithm. To do this, we need to create the `sagemaker.session.s3_input` objects from our data channels. These objects are then put in a simple dictionary, which the algorithm consumes."
   ]
  },
  {
   "cell_type": "code",
   "execution_count": 92,
   "metadata": {},
   "outputs": [],
   "source": [
    "train_data = sagemaker.session.s3_input(s3_train_data, distribution='FullyReplicated', \n",
    "                        content_type='text/plain', s3_data_type='S3Prefix')\n",
    "validation_data = sagemaker.session.s3_input(s3_validation_data, distribution='FullyReplicated', \n",
    "                             content_type='text/plain', s3_data_type='S3Prefix')\n",
    "data_channels = {'train': train_data, 'validation': validation_data}"
   ]
  },
  {
   "cell_type": "markdown",
   "metadata": {},
   "source": [
    "fit model"
   ]
  },
  {
   "cell_type": "code",
   "execution_count": 93,
   "metadata": {
    "scrolled": true
   },
   "outputs": [
    {
     "name": "stdout",
     "output_type": "stream",
     "text": [
      "2020-01-30 16:36:41 Starting - Starting the training job...\n",
      "2020-01-30 16:36:43 Starting - Launching requested ML instances......\n",
      "2020-01-30 16:37:51 Starting - Preparing the instances for training......\n",
      "2020-01-30 16:39:12 Downloading - Downloading input data...\n",
      "2020-01-30 16:39:40 Training - Training image download completed. Training in progress..\u001b[34mArguments: train\u001b[0m\n",
      "\u001b[34m[01/30/2020 16:39:41 WARNING 140124664289088] Loggers have already been setup.\u001b[0m\n",
      "\u001b[34m[01/30/2020 16:39:41 WARNING 140124664289088] Loggers have already been setup.\u001b[0m\n",
      "\u001b[34m[01/30/2020 16:39:41 INFO 140124664289088] nvidia-smi took: 0.025337934494 secs to identify 0 gpus\u001b[0m\n",
      "\u001b[34m[01/30/2020 16:39:41 INFO 140124664289088] Running single machine CPU BlazingText training using supervised mode.\u001b[0m\n",
      "\u001b[34m[01/30/2020 16:39:41 INFO 140124664289088] Processing /opt/ml/input/data/train/reviews.train . File size: 115 MB\u001b[0m\n",
      "\u001b[34m[01/30/2020 16:39:41 INFO 140124664289088] Processing /opt/ml/input/data/validation/reviews.validation . File size: 49 MB\u001b[0m\n",
      "\u001b[34mRead 10M words\u001b[0m\n",
      "\u001b[34mRead 20M words\u001b[0m\n",
      "\u001b[34mRead 24M words\u001b[0m\n",
      "\u001b[34mNumber of words:  112610\u001b[0m\n",
      "\u001b[34mLoading validation data from /opt/ml/input/data/validation/reviews.validation\u001b[0m\n",
      "\u001b[34mLoaded validation data.\u001b[0m\n",
      "\u001b[34m-------------- End of epoch: 4\u001b[0m\n",
      "\u001b[34m##### Alpha: 0.0273  Progress: 45.48%  Million Words/sec: 39.48 #####\u001b[0m\n",
      "\u001b[34m##### Alpha: 0.0247  Progress: 50.60%  Million Words/sec: 39.65 #####\u001b[0m\n",
      "\u001b[34m-------------- End of epoch: 5\u001b[0m\n",
      "\u001b[34mUsing 16 threads for prediction!\u001b[0m\n",
      "\u001b[34mValidation accuracy: 0.942213\u001b[0m\n",
      "\u001b[34mValidation accuracy improved! Storing best weights...\u001b[0m\n",
      "\u001b[34m##### Alpha: 0.0217  Progress: 56.66%  Million Words/sec: 37.30 #####\u001b[0m\n",
      "\u001b[34m-------------- End of epoch: 6\u001b[0m\n",
      "\u001b[34mUsing 16 threads for prediction!\u001b[0m\n",
      "\u001b[34mValidation accuracy: 0.943176\u001b[0m\n",
      "\u001b[34mValidation accuracy improved! Storing best weights...\u001b[0m\n",
      "\u001b[34m##### Alpha: 0.0190  Progress: 62.07%  Million Words/sec: 35.57 #####\u001b[0m\n",
      "\u001b[34m##### Alpha: 0.0164  Progress: 67.25%  Million Words/sec: 35.98 #####\u001b[0m\n",
      "\u001b[34m-------------- End of epoch: 7\u001b[0m\n",
      "\u001b[34mUsing 16 threads for prediction!\u001b[0m\n",
      "\u001b[34mValidation accuracy: 0.943102\u001b[0m\n",
      "\u001b[34mValidation accuracy has not improved for last 1 epochs.\u001b[0m\n",
      "\u001b[34m##### Alpha: 0.0139  Progress: 72.27%  Million Words/sec: 34.98 #####\u001b[0m\n",
      "\u001b[34m##### Alpha: 0.0113  Progress: 77.47%  Million Words/sec: 35.37 #####\u001b[0m\n",
      "\u001b[34m-------------- End of epoch: 8\u001b[0m\n",
      "\u001b[34mUsing 16 threads for prediction!\u001b[0m\n",
      "\u001b[34mValidation accuracy: 0.942852\u001b[0m\n",
      "\u001b[34mValidation accuracy has not improved for last 2 epochs.\u001b[0m\n",
      "\u001b[34m##### Alpha: 0.0087  Progress: 82.56%  Million Words/sec: 34.61 #####\u001b[0m\n",
      "\u001b[34m##### Alpha: 0.0061  Progress: 87.71%  Million Words/sec: 34.94 #####\u001b[0m\n",
      "\u001b[34m-------------- End of epoch: 9\u001b[0m\n",
      "\u001b[34mUsing 16 threads for prediction!\u001b[0m\n",
      "\u001b[34mValidation accuracy: 0.943389\u001b[0m\n",
      "\u001b[34mValidation accuracy improved! Storing best weights...\u001b[0m\n",
      "\u001b[34m##### Alpha: 0.0033  Progress: 93.31%  Million Words/sec: 34.08 #####\u001b[0m\n",
      "\u001b[34m##### Alpha: 0.0008  Progress: 98.45%  Million Words/sec: 34.40 #####\u001b[0m\n",
      "\u001b[34m-------------- End of epoch: 10\u001b[0m\n",
      "\u001b[34mUsing 16 threads for prediction!\u001b[0m\n",
      "\u001b[34mValidation accuracy: 0.944083\u001b[0m\n",
      "\u001b[34mValidation accuracy improved! Storing best weights...\u001b[0m\n",
      "\u001b[34m##### Alpha: 0.0000  Progress: 100.00%  Million Words/sec: 33.76 #####\u001b[0m\n",
      "\u001b[34mTraining finished.\u001b[0m\n",
      "\u001b[34mAverage throughput in Million words/sec: 33.76\u001b[0m\n",
      "\u001b[34mTotal training time in seconds: 7.18\n",
      "\u001b[0m\n",
      "\u001b[34m#train_accuracy: 0.9686\u001b[0m\n",
      "\u001b[34mNumber of train examples: 252000\n",
      "\u001b[0m\n",
      "\u001b[34m#validation_accuracy: 0.9441\u001b[0m\n",
      "\u001b[34mNumber of validation examples: 108001\u001b[0m\n",
      "\n",
      "2020-01-30 16:40:00 Uploading - Uploading generated training model\n",
      "2020-01-30 16:40:17 Completed - Training job completed\n",
      "Training seconds: 65\n",
      "Billable seconds: 65\n"
     ]
    }
   ],
   "source": [
    "bt_model.fit(inputs=data_channels, logs=True)"
   ]
  },
  {
   "cell_type": "markdown",
   "metadata": {},
   "source": [
    "## Hosting / Inference\n",
    "Once the training is done, we can deploy the trained model as an Amazon SageMaker real-time hosted endpoint. This will allow us to make predictions (or inference) from the model. Note that we don't have to host on the same type of instance that we used to train. Because instance endpoints will be up and running for long, it's advisable to choose a cheaper instance for inference."
   ]
  },
  {
   "cell_type": "code",
   "execution_count": 94,
   "metadata": {},
   "outputs": [
    {
     "name": "stdout",
     "output_type": "stream",
     "text": [
      "-----------------!"
     ]
    }
   ],
   "source": [
    "text_classifier = bt_model.deploy(initial_instance_count = 1,instance_type = 'ml.m4.xlarge')"
   ]
  },
  {
   "cell_type": "code",
   "execution_count": 95,
   "metadata": {},
   "outputs": [],
   "source": [
    "text_classifier = sagemaker.predictor.RealTimePredictor(endpoint='phdataBlazingText-2020-01-30-16-36-41-505', sagemaker_session=sess)\n"
   ]
  },
  {
   "cell_type": "markdown",
   "metadata": {},
   "source": [
    "#### Use JSON format for inference\n"
   ]
  },
  {
   "cell_type": "code",
   "execution_count": 96,
   "metadata": {},
   "outputs": [
    {
     "name": "stdout",
     "output_type": "stream",
     "text": [
      "[\n",
      "  {\n",
      "    \"prob\": [\n",
      "      0.709614634513855\n",
      "    ],\n",
      "    \"label\": [\n",
      "      \"__label__media\"\n",
      "    ]\n",
      "  },\n",
      "  {\n",
      "    \"prob\": [\n",
      "      0.9889069199562073\n",
      "    ],\n",
      "    \"label\": [\n",
      "      \"__label__media\"\n",
      "    ]\n",
      "  }\n",
      "]\n"
     ]
    }
   ],
   "source": [
    "sentences = [\"Not worth seeing My wife and I tried, really tried to watch this movie, and it went nowhere. It was probably the biggest disappointment we've seen in years. Boring, and so s-l-o-w you feel like cutting off your own limbs for entertainment. We give this an all toes down\",\n",
    "             \"comedy at its worst Jon Keyes directed this black-humored and odd black comedy that is not scary or funny but dumb and dull with unlikable characters,a badly written plot,and a very low budget. The movie is very reminiscent to Paul Bartel's Eating Raoul and Bob Balaban's Parents but the movie is a couple that argue about everything and then the wife gets mad and harasses a teenage girl in the basement and then tries to kill her husband as well as the husband trying to kill her. For a low-budget black comedy this is a unwatchable mess with no redeeming values. Despite the title the movie takes place in the couple's dining room,kitchen,and the living room and the front cover has nothing to do with this movie because it is not a slasher flick but a bizarre soap opera-ish movie that looks like a Lifetime movie.\"]             \n",
    "# using the same nltk tokenizer that we used during data preparation for training\n",
    "tokenized_sentences = [' '.join(nltk.word_tokenize(sent)) for sent in sentences]\n",
    "\n",
    "payload = {\"instances\" : tokenized_sentences}\n",
    "\n",
    "response = text_classifier.predict(json.dumps(payload))\n",
    "\n",
    "predictions = json.loads(response)\n",
    "print(json.dumps(predictions, indent=2))"
   ]
  },
  {
   "cell_type": "markdown",
   "metadata": {},
   "source": [
    "For retrieving the top k predictions, we can set `k` in the configuration as shown below:"
   ]
  },
  {
   "cell_type": "code",
   "execution_count": 97,
   "metadata": {},
   "outputs": [
    {
     "name": "stdout",
     "output_type": "stream",
     "text": [
      "[\n",
      "  {\n",
      "    \"prob\": [\n",
      "      0.709614634513855,\n",
      "      0.2903347909450531\n",
      "    ],\n",
      "    \"label\": [\n",
      "      \"__label__media\",\n",
      "      \"__label__unsatisfied\"\n",
      "    ]\n",
      "  },\n",
      "  {\n",
      "    \"prob\": [\n",
      "      0.9889069199562073,\n",
      "      0.009817778132855892\n",
      "    ],\n",
      "    \"label\": [\n",
      "      \"__label__media\",\n",
      "      \"__label__unsatisfied\"\n",
      "    ]\n",
      "  }\n",
      "]\n"
     ]
    }
   ],
   "source": [
    "payload = {\"instances\" : tokenized_sentences,\n",
    "          \"configuration\": {\"k\": 2}}\n",
    "\n",
    "response = text_classifier.predict(json.dumps(payload))\n",
    "\n",
    "predictions = json.loads(response)\n",
    "print(json.dumps(predictions, indent=2))"
   ]
  },
  {
   "cell_type": "markdown",
   "metadata": {},
   "source": [
    "### Stop / Close the Endpoint \n",
    "Finally, we should delete the endpoint before we close the notebook if we don't need to keep the endpoint running for serving realtime predictions."
   ]
  },
  {
   "cell_type": "code",
   "execution_count": 55,
   "metadata": {},
   "outputs": [],
   "source": [
    "#sess.delete_endpoint(text_classifier.endpoint)"
   ]
  }
 ],
 "metadata": {
  "kernelspec": {
   "display_name": "conda_python3",
   "language": "python",
   "name": "conda_python3"
  },
  "language_info": {
   "codemirror_mode": {
    "name": "ipython",
    "version": 3
   },
   "file_extension": ".py",
   "mimetype": "text/x-python",
   "name": "python",
   "nbconvert_exporter": "python",
   "pygments_lexer": "ipython3",
   "version": "3.6.5"
  },
  "notice": "Copyright 2018 Amazon.com, Inc. or its affiliates. All Rights Reserved.  Licensed under the Apache License, Version 2.0 (the \"License\"). You may not use this file except in compliance with the License. A copy of the License is located at http://aws.amazon.com/apache2.0/ or in the \"license\" file accompanying this file. This file is distributed on an \"AS IS\" BASIS, WITHOUT WARRANTIES OR CONDITIONS OF ANY KIND, either express or implied. See the License for the specific language governing permissions and limitations under the License."
 },
 "nbformat": 4,
 "nbformat_minor": 2
}
