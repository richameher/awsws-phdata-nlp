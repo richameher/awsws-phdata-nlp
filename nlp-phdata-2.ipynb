{
 "cells": [
  {
   "cell_type": "markdown",
   "metadata": {},
   "source": [
    "# Collect Data from AWS Comprehend"
   ]
  },
  {
   "cell_type": "markdown",
   "metadata": {},
   "source": [
    "Data is a concatenated title and review"
   ]
  },
  {
   "cell_type": "code",
   "execution_count": 222,
   "metadata": {},
   "outputs": [],
   "source": [
    "import pandas as pd\n",
    "# !mkdir Data\n",
    "# !rm -rf Data/train.csv\n",
    "# !aws s3 cp s3://phdata-nlp-s3-bucket/comprehend-input/sample_neg_reviews.csv  Data/\n",
    "# !wget https://s3.amazonaws.com/fast-ai-nlp/amazon_review_polarity_csv.tgz \n",
    "# !tar -xvzf amazon_review_polarity_csv.tgz\n",
    "# !rm -rf  amazon_review_polarity_csv\n",
    "# !mkdir -p Data/\n",
    "# !cp amazon_review_polarity_csv/train.csv Data/\n",
    "df = pd.read_csv(\"Data/sample_neg_reviews.csv\", usecols=[\"title_and_review\"],header=0)"
   ]
  },
  {
   "cell_type": "code",
   "execution_count": 223,
   "metadata": {},
   "outputs": [
    {
     "data": {
      "text/html": [
       "<div>\n",
       "<style scoped>\n",
       "    .dataframe tbody tr th:only-of-type {\n",
       "        vertical-align: middle;\n",
       "    }\n",
       "\n",
       "    .dataframe tbody tr th {\n",
       "        vertical-align: top;\n",
       "    }\n",
       "\n",
       "    .dataframe thead th {\n",
       "        text-align: right;\n",
       "    }\n",
       "</style>\n",
       "<table border=\"1\" class=\"dataframe\">\n",
       "  <thead>\n",
       "    <tr style=\"text-align: right;\">\n",
       "      <th></th>\n",
       "      <th>title_and_review</th>\n",
       "    </tr>\n",
       "  </thead>\n",
       "  <tbody>\n",
       "    <tr>\n",
       "      <th>0</th>\n",
       "      <td>Umm....Get a life....a REAL one This is corny....</td>\n",
       "    </tr>\n",
       "    <tr>\n",
       "      <th>1</th>\n",
       "      <td>Yukkk! Please don't think this is really Dean ...</td>\n",
       "    </tr>\n",
       "    <tr>\n",
       "      <th>2</th>\n",
       "      <td>A Disapointment Unfortunately this pump has be...</td>\n",
       "    </tr>\n",
       "    <tr>\n",
       "      <th>3</th>\n",
       "      <td>¿little Goldie influence? What happened with t...</td>\n",
       "    </tr>\n",
       "    <tr>\n",
       "      <th>4</th>\n",
       "      <td>It really didn't work as described I was surpr...</td>\n",
       "    </tr>\n",
       "    <tr>\n",
       "      <th>5</th>\n",
       "      <td>the DVD was damaged and won't play We saw a po...</td>\n",
       "    </tr>\n",
       "    <tr>\n",
       "      <th>6</th>\n",
       "      <td>Awful I struggled to read Easy last summer and...</td>\n",
       "    </tr>\n",
       "    <tr>\n",
       "      <th>7</th>\n",
       "      <td>Is it only me ? I have read a few books on sto...</td>\n",
       "    </tr>\n",
       "    <tr>\n",
       "      <th>8</th>\n",
       "      <td>Skeeter is Jar Jar Binks Rabbit Redux is by fa...</td>\n",
       "    </tr>\n",
       "    <tr>\n",
       "      <th>9</th>\n",
       "      <td>Not the kind of DVD Heroes del Silencio deserv...</td>\n",
       "    </tr>\n",
       "  </tbody>\n",
       "</table>\n",
       "</div>"
      ],
      "text/plain": [
       "                                    title_and_review\n",
       "0  Umm....Get a life....a REAL one This is corny....\n",
       "1  Yukkk! Please don't think this is really Dean ...\n",
       "2  A Disapointment Unfortunately this pump has be...\n",
       "3  ¿little Goldie influence? What happened with t...\n",
       "4  It really didn't work as described I was surpr...\n",
       "5  the DVD was damaged and won't play We saw a po...\n",
       "6  Awful I struggled to read Easy last summer and...\n",
       "7  Is it only me ? I have read a few books on sto...\n",
       "8  Skeeter is Jar Jar Binks Rabbit Redux is by fa...\n",
       "9  Not the kind of DVD Heroes del Silencio deserv..."
      ]
     },
     "execution_count": 223,
     "metadata": {},
     "output_type": "execute_result"
    }
   ],
   "source": [
    "df[:10]"
   ]
  },
  {
   "cell_type": "code",
   "execution_count": 224,
   "metadata": {},
   "outputs": [
    {
     "data": {
      "text/plain": [
       "title_and_review    360000\n",
       "dtype: int64"
      ]
     },
     "execution_count": 224,
     "metadata": {},
     "output_type": "execute_result"
    }
   ],
   "source": [
    "df.count()"
   ]
  },
  {
   "cell_type": "code",
   "execution_count": 104,
   "metadata": {},
   "outputs": [
    {
     "name": "stdout",
     "output_type": "stream",
     "text": [
      "download: s3://phdata-nlp-s3-bucket/comprehend-output/output.tar.gz to output/output.tar.gz\n",
      "topic-terms.csv\n",
      "doc-topics.csv\n"
     ]
    }
   ],
   "source": [
    "!aws s3 cp s3://phdata-nlp-s3-bucket/comprehend-output/output.tar.gz output/.\n",
    "!tar -xvzf output/output.tar.gz"
   ]
  },
  {
   "cell_type": "markdown",
   "metadata": {},
   "source": [
    "Comprehend outputs two files, one is doc relation to topic. Second one is topics relation to terms."
   ]
  },
  {
   "cell_type": "code",
   "execution_count": 235,
   "metadata": {},
   "outputs": [],
   "source": [
    "df_doc_terms = pd.read_csv(\"doc-topics.csv\")\n",
    "df_top_terms=pd.read_csv(\"topic-terms.csv\")"
   ]
  },
  {
   "cell_type": "code",
   "execution_count": 238,
   "metadata": {},
   "outputs": [
    {
     "data": {
      "text/html": [
       "<div>\n",
       "<style scoped>\n",
       "    .dataframe tbody tr th:only-of-type {\n",
       "        vertical-align: middle;\n",
       "    }\n",
       "\n",
       "    .dataframe tbody tr th {\n",
       "        vertical-align: top;\n",
       "    }\n",
       "\n",
       "    .dataframe thead th {\n",
       "        text-align: right;\n",
       "    }\n",
       "</style>\n",
       "<table border=\"1\" class=\"dataframe\">\n",
       "  <thead>\n",
       "    <tr style=\"text-align: right;\">\n",
       "      <th></th>\n",
       "      <th>docname</th>\n",
       "      <th>topic</th>\n",
       "      <th>proportion</th>\n",
       "    </tr>\n",
       "  </thead>\n",
       "  <tbody>\n",
       "    <tr>\n",
       "      <th>0</th>\n",
       "      <td>sample_neg_reviews.csv:6</td>\n",
       "      <td>1</td>\n",
       "      <td>1.000000</td>\n",
       "    </tr>\n",
       "    <tr>\n",
       "      <th>1</th>\n",
       "      <td>sample_neg_reviews.csv:41</td>\n",
       "      <td>0</td>\n",
       "      <td>1.000000</td>\n",
       "    </tr>\n",
       "    <tr>\n",
       "      <th>2</th>\n",
       "      <td>sample_neg_reviews.csv:76</td>\n",
       "      <td>0</td>\n",
       "      <td>0.678726</td>\n",
       "    </tr>\n",
       "    <tr>\n",
       "      <th>3</th>\n",
       "      <td>sample_neg_reviews.csv:76</td>\n",
       "      <td>4</td>\n",
       "      <td>0.321274</td>\n",
       "    </tr>\n",
       "    <tr>\n",
       "      <th>4</th>\n",
       "      <td>sample_neg_reviews.csv:111</td>\n",
       "      <td>2</td>\n",
       "      <td>1.000000</td>\n",
       "    </tr>\n",
       "    <tr>\n",
       "      <th>5</th>\n",
       "      <td>sample_neg_reviews.csv:146</td>\n",
       "      <td>4</td>\n",
       "      <td>1.000000</td>\n",
       "    </tr>\n",
       "    <tr>\n",
       "      <th>6</th>\n",
       "      <td>sample_neg_reviews.csv:181</td>\n",
       "      <td>0</td>\n",
       "      <td>1.000000</td>\n",
       "    </tr>\n",
       "    <tr>\n",
       "      <th>7</th>\n",
       "      <td>sample_neg_reviews.csv:216</td>\n",
       "      <td>2</td>\n",
       "      <td>1.000000</td>\n",
       "    </tr>\n",
       "    <tr>\n",
       "      <th>8</th>\n",
       "      <td>sample_neg_reviews.csv:251</td>\n",
       "      <td>1</td>\n",
       "      <td>1.000000</td>\n",
       "    </tr>\n",
       "    <tr>\n",
       "      <th>9</th>\n",
       "      <td>sample_neg_reviews.csv:286</td>\n",
       "      <td>4</td>\n",
       "      <td>1.000000</td>\n",
       "    </tr>\n",
       "  </tbody>\n",
       "</table>\n",
       "</div>"
      ],
      "text/plain": [
       "                      docname  topic  proportion\n",
       "0    sample_neg_reviews.csv:6      1    1.000000\n",
       "1   sample_neg_reviews.csv:41      0    1.000000\n",
       "2   sample_neg_reviews.csv:76      0    0.678726\n",
       "3   sample_neg_reviews.csv:76      4    0.321274\n",
       "4  sample_neg_reviews.csv:111      2    1.000000\n",
       "5  sample_neg_reviews.csv:146      4    1.000000\n",
       "6  sample_neg_reviews.csv:181      0    1.000000\n",
       "7  sample_neg_reviews.csv:216      2    1.000000\n",
       "8  sample_neg_reviews.csv:251      1    1.000000\n",
       "9  sample_neg_reviews.csv:286      4    1.000000"
      ]
     },
     "execution_count": 238,
     "metadata": {},
     "output_type": "execute_result"
    }
   ],
   "source": [
    "df_doc_terms[:10]"
   ]
  },
  {
   "cell_type": "code",
   "execution_count": 128,
   "metadata": {},
   "outputs": [
    {
     "data": {
      "text/html": [
       "<div>\n",
       "<style scoped>\n",
       "    .dataframe tbody tr th:only-of-type {\n",
       "        vertical-align: middle;\n",
       "    }\n",
       "\n",
       "    .dataframe tbody tr th {\n",
       "        vertical-align: top;\n",
       "    }\n",
       "\n",
       "    .dataframe thead th {\n",
       "        text-align: right;\n",
       "    }\n",
       "</style>\n",
       "<table border=\"1\" class=\"dataframe\">\n",
       "  <thead>\n",
       "    <tr style=\"text-align: right;\">\n",
       "      <th></th>\n",
       "      <th>topic</th>\n",
       "      <th>term</th>\n",
       "      <th>weight</th>\n",
       "    </tr>\n",
       "  </thead>\n",
       "  <tbody>\n",
       "    <tr>\n",
       "      <th>30</th>\n",
       "      <td>3</td>\n",
       "      <td>money</td>\n",
       "      <td>0.051282</td>\n",
       "    </tr>\n",
       "    <tr>\n",
       "      <th>31</th>\n",
       "      <td>3</td>\n",
       "      <td>waste</td>\n",
       "      <td>0.049537</td>\n",
       "    </tr>\n",
       "    <tr>\n",
       "      <th>32</th>\n",
       "      <td>3</td>\n",
       "      <td>time</td>\n",
       "      <td>0.033459</td>\n",
       "    </tr>\n",
       "    <tr>\n",
       "      <th>33</th>\n",
       "      <td>3</td>\n",
       "      <td>buy</td>\n",
       "      <td>0.027023</td>\n",
       "    </tr>\n",
       "    <tr>\n",
       "      <th>34</th>\n",
       "      <td>3</td>\n",
       "      <td>save</td>\n",
       "      <td>0.011075</td>\n",
       "    </tr>\n",
       "    <tr>\n",
       "      <th>35</th>\n",
       "      <td>3</td>\n",
       "      <td>worth</td>\n",
       "      <td>0.011764</td>\n",
       "    </tr>\n",
       "    <tr>\n",
       "      <th>36</th>\n",
       "      <td>3</td>\n",
       "      <td>spend</td>\n",
       "      <td>0.006934</td>\n",
       "    </tr>\n",
       "    <tr>\n",
       "      <th>37</th>\n",
       "      <td>3</td>\n",
       "      <td>complete</td>\n",
       "      <td>0.003891</td>\n",
       "    </tr>\n",
       "    <tr>\n",
       "      <th>38</th>\n",
       "      <td>3</td>\n",
       "      <td>junk</td>\n",
       "      <td>0.004677</td>\n",
       "    </tr>\n",
       "    <tr>\n",
       "      <th>39</th>\n",
       "      <td>3</td>\n",
       "      <td>piece</td>\n",
       "      <td>0.004807</td>\n",
       "    </tr>\n",
       "  </tbody>\n",
       "</table>\n",
       "</div>"
      ],
      "text/plain": [
       "    topic      term    weight\n",
       "30      3     money  0.051282\n",
       "31      3     waste  0.049537\n",
       "32      3      time  0.033459\n",
       "33      3       buy  0.027023\n",
       "34      3      save  0.011075\n",
       "35      3     worth  0.011764\n",
       "36      3     spend  0.006934\n",
       "37      3  complete  0.003891\n",
       "38      3      junk  0.004677\n",
       "39      3     piece  0.004807"
      ]
     },
     "execution_count": 128,
     "metadata": {},
     "output_type": "execute_result"
    }
   ],
   "source": [
    "df_top_terms[df_top_terms['topic']== 3]"
   ]
  },
  {
   "cell_type": "code",
   "execution_count": 296,
   "metadata": {},
   "outputs": [
    {
     "data": {
      "image/png": "[encoded data removed]",
      "text/plain": [
       "<Figure size 640x480 with 4 Axes>"
      ]
     },
     "metadata": {},
     "output_type": "display_data"
    }
   ],
   "source": [
    "import matplotlib.pyplot as plt\n",
    "%matplotlib inline\n",
    "\n",
    "labels_3 = df_top_terms[df_top_terms['topic']== 3]['term'].values\n",
    "sizes_3 = df_top_terms[df_top_terms['topic']== 3]['weight'].values\n",
    "\n",
    "\n",
    "plt.rcdefaults()\n",
    "\n",
    "fig, ax = plt.subplots(2,2)\n",
    "\n",
    "y_pos = np.arange(10)\n",
    "performance = sizes\n",
    "\n",
    "ax[0][0].barh(labels_3,sizes_3, align='center')\n",
    "ax[0][0].set_yticks(labels_3)\n",
    "ax[0][0].invert_yaxis()  # labels read top-to-bottom\n",
    "ax[0][0].set_xlabel('Weights')\n",
    "ax[0][0].set_title('Unsatisfied')\n",
    "\n",
    "labels_2 = df_top_terms[df_top_terms['topic']== 2]['term'].values\n",
    "sizes_2 = df_top_terms[df_top_terms['topic']== 2]['weight'].values\n",
    "\n",
    "ax[1][0].barh(labels_2,sizes_2, align='center')\n",
    "ax[1][0].set_yticks(y_pos)\n",
    "ax[1][0].invert_yaxis()  # labels read top-to-bottom\n",
    "ax[1][0].set_xlabel('Weights')\n",
    "ax[1][0].set_title('Product based')\n",
    "\n",
    "labels_0 = df_top_terms[df_top_terms['topic']== 0]['term'].values\n",
    "sizes_0 = df_top_terms[df_top_terms['topic']== 0]['weight'].values\n",
    "\n",
    "ax[1][1].barh(labels_0,sizes_0, align='center')\n",
    "ax[1][1].set_yticks(y_pos)\n",
    "ax[1][1].invert_yaxis()  # labels read top-to-bottom\n",
    "ax[1][1].set_xlabel('Weights')\n",
    "ax[1][1].set_title('book summary')\n",
    "\n",
    "labels_1 = df_top_terms[df_top_terms['topic']== 1]['term'].values\n",
    "sizes_1 = df_top_terms[df_top_terms['topic']== 1]['weight'].values\n",
    "\n",
    "ax[0][1].barh(labels_1,sizes_1, align='center')\n",
    "ax[0][1].set_yticks(y_pos)\n",
    "ax[0][1].invert_yaxis()  # labels read top-to-bottom\n",
    "ax[0][1].set_xlabel('Weights')\n",
    "ax[0][1].set_title('Order Related')\n",
    "\n",
    "plt.subplots_adjust(wspace=0.8,hspace=0.5)"
   ]
  },
  {
   "cell_type": "markdown",
   "metadata": {},
   "source": [
    "# Mapping Reviews to Topics"
   ]
  },
  {
   "cell_type": "code",
   "execution_count": 119,
   "metadata": {},
   "outputs": [],
   "source": [
    "df_doc_terms['ranks']=df_doc_terms.groupby(by=['docname'])['proportion'].rank(method=\"first\", ascending=True)\n",
    "df_doc_terms[\"ranks\"] = df_doc_terms['ranks'].astype(int)\n",
    "df_doc_terms=df_doc_terms[df_doc_terms['ranks']==1]"
   ]
  },
  {
   "cell_type": "code",
   "execution_count": 225,
   "metadata": {},
   "outputs": [],
   "source": [
    "import numpy as np\n",
    "\n",
    "# map_reviews= ['bad read','review','quality','operational','media','movie','music','battery life','order-related','enterntainment']\n",
    "map_reviews=['book summary','order related','product issue','unsatisfied','media']\n",
    "dict_l={}\n",
    "l=[]\n",
    "\n",
    "for index, row in df_doc_terms.iterrows():\n",
    "    index_pos=int(row['docname'].split(\":\")[1]) \n",
    "    topic_no=int(row['topic'])\n",
    "    map_revews_colname=map_reviews[topic_no]\n",
    "    dict_l[index_pos]=map_revews_colname\n",
    "\n",
    "# Adding this delte as the comprehend scored dataset with the header row\n",
    "del(dict_l[0])\n",
    "\n",
    "col_label=[]\n",
    "for key, value in sorted(dict_l.items(), key=lambda item: item[0]):\n",
    "    col_label.append(str(value))\n",
    "    \n",
    "df['topic']=pd.Series(col_label)"
   ]
  },
  {
   "cell_type": "code",
   "execution_count": 211,
   "metadata": {},
   "outputs": [],
   "source": [
    "df=df.sort_index"
   ]
  },
  {
   "cell_type": "code",
   "execution_count": 227,
   "metadata": {},
   "outputs": [
    {
     "data": {
      "text/html": [
       "<div>\n",
       "<style scoped>\n",
       "    .dataframe tbody tr th:only-of-type {\n",
       "        vertical-align: middle;\n",
       "    }\n",
       "\n",
       "    .dataframe tbody tr th {\n",
       "        vertical-align: top;\n",
       "    }\n",
       "\n",
       "    .dataframe thead th {\n",
       "        text-align: right;\n",
       "    }\n",
       "</style>\n",
       "<table border=\"1\" class=\"dataframe\">\n",
       "  <thead>\n",
       "    <tr style=\"text-align: right;\">\n",
       "      <th></th>\n",
       "      <th>title_and_review</th>\n",
       "      <th>topic</th>\n",
       "    </tr>\n",
       "  </thead>\n",
       "  <tbody>\n",
       "    <tr>\n",
       "      <th>0</th>\n",
       "      <td>Umm....Get a life....a REAL one This is corny....</td>\n",
       "      <td>unsatisfied</td>\n",
       "    </tr>\n",
       "    <tr>\n",
       "      <th>1</th>\n",
       "      <td>Yukkk! Please don't think this is really Dean ...</td>\n",
       "      <td>book summary</td>\n",
       "    </tr>\n",
       "    <tr>\n",
       "      <th>2</th>\n",
       "      <td>A Disapointment Unfortunately this pump has be...</td>\n",
       "      <td>product issue</td>\n",
       "    </tr>\n",
       "    <tr>\n",
       "      <th>3</th>\n",
       "      <td>¿little Goldie influence? What happened with t...</td>\n",
       "      <td>media</td>\n",
       "    </tr>\n",
       "    <tr>\n",
       "      <th>4</th>\n",
       "      <td>It really didn't work as described I was surpr...</td>\n",
       "      <td>product issue</td>\n",
       "    </tr>\n",
       "    <tr>\n",
       "      <th>5</th>\n",
       "      <td>the DVD was damaged and won't play We saw a po...</td>\n",
       "      <td>order related</td>\n",
       "    </tr>\n",
       "    <tr>\n",
       "      <th>6</th>\n",
       "      <td>Awful I struggled to read Easy last summer and...</td>\n",
       "      <td>book summary</td>\n",
       "    </tr>\n",
       "    <tr>\n",
       "      <th>7</th>\n",
       "      <td>Is it only me ? I have read a few books on sto...</td>\n",
       "      <td>book summary</td>\n",
       "    </tr>\n",
       "    <tr>\n",
       "      <th>8</th>\n",
       "      <td>Skeeter is Jar Jar Binks Rabbit Redux is by fa...</td>\n",
       "      <td>book summary</td>\n",
       "    </tr>\n",
       "    <tr>\n",
       "      <th>9</th>\n",
       "      <td>Not the kind of DVD Heroes del Silencio deserv...</td>\n",
       "      <td>media</td>\n",
       "    </tr>\n",
       "  </tbody>\n",
       "</table>\n",
       "</div>"
      ],
      "text/plain": [
       "                                    title_and_review          topic\n",
       "0  Umm....Get a life....a REAL one This is corny....    unsatisfied\n",
       "1  Yukkk! Please don't think this is really Dean ...   book summary\n",
       "2  A Disapointment Unfortunately this pump has be...  product issue\n",
       "3  ¿little Goldie influence? What happened with t...          media\n",
       "4  It really didn't work as described I was surpr...  product issue\n",
       "5  the DVD was damaged and won't play We saw a po...  order related\n",
       "6  Awful I struggled to read Easy last summer and...   book summary\n",
       "7  Is it only me ? I have read a few books on sto...   book summary\n",
       "8  Skeeter is Jar Jar Binks Rabbit Redux is by fa...   book summary\n",
       "9  Not the kind of DVD Heroes del Silencio deserv...          media"
      ]
     },
     "execution_count": 227,
     "metadata": {},
     "output_type": "execute_result"
    }
   ],
   "source": [
    "df[:10]"
   ]
  },
  {
   "cell_type": "markdown",
   "metadata": {},
   "source": [
    "## Converting into Blazing Text compatible structure"
   ]
  },
  {
   "cell_type": "code",
   "execution_count": 228,
   "metadata": {},
   "outputs": [],
   "source": [
    "df['title_and_review'] = \"__label__\"+df['topic'].astype(str) + \" \"+ df['title_and_review'].astype(str)"
   ]
  },
  {
   "cell_type": "code",
   "execution_count": 230,
   "metadata": {},
   "outputs": [
    {
     "data": {
      "text/html": [
       "<div>\n",
       "<style scoped>\n",
       "    .dataframe tbody tr th:only-of-type {\n",
       "        vertical-align: middle;\n",
       "    }\n",
       "\n",
       "    .dataframe tbody tr th {\n",
       "        vertical-align: top;\n",
       "    }\n",
       "\n",
       "    .dataframe thead th {\n",
       "        text-align: right;\n",
       "    }\n",
       "</style>\n",
       "<table border=\"1\" class=\"dataframe\">\n",
       "  <thead>\n",
       "    <tr style=\"text-align: right;\">\n",
       "      <th></th>\n",
       "      <th>title_and_review</th>\n",
       "      <th>topic</th>\n",
       "    </tr>\n",
       "  </thead>\n",
       "  <tbody>\n",
       "    <tr>\n",
       "      <th>0</th>\n",
       "      <td>__label__unsatisfied Umm....Get a life....a RE...</td>\n",
       "      <td>unsatisfied</td>\n",
       "    </tr>\n",
       "    <tr>\n",
       "      <th>1</th>\n",
       "      <td>__label__book summary Yukkk! Please don't thin...</td>\n",
       "      <td>book summary</td>\n",
       "    </tr>\n",
       "    <tr>\n",
       "      <th>2</th>\n",
       "      <td>__label__product issue A Disapointment Unfortu...</td>\n",
       "      <td>product issue</td>\n",
       "    </tr>\n",
       "    <tr>\n",
       "      <th>3</th>\n",
       "      <td>__label__media ¿little Goldie influence? What ...</td>\n",
       "      <td>media</td>\n",
       "    </tr>\n",
       "    <tr>\n",
       "      <th>4</th>\n",
       "      <td>__label__product issue It really didn't work a...</td>\n",
       "      <td>product issue</td>\n",
       "    </tr>\n",
       "    <tr>\n",
       "      <th>5</th>\n",
       "      <td>__label__order related the DVD was damaged and...</td>\n",
       "      <td>order related</td>\n",
       "    </tr>\n",
       "    <tr>\n",
       "      <th>6</th>\n",
       "      <td>__label__book summary Awful I struggled to rea...</td>\n",
       "      <td>book summary</td>\n",
       "    </tr>\n",
       "    <tr>\n",
       "      <th>7</th>\n",
       "      <td>__label__book summary Is it only me ? I have r...</td>\n",
       "      <td>book summary</td>\n",
       "    </tr>\n",
       "    <tr>\n",
       "      <th>8</th>\n",
       "      <td>__label__book summary Skeeter is Jar Jar Binks...</td>\n",
       "      <td>book summary</td>\n",
       "    </tr>\n",
       "    <tr>\n",
       "      <th>9</th>\n",
       "      <td>__label__media Not the kind of DVD Heroes del ...</td>\n",
       "      <td>media</td>\n",
       "    </tr>\n",
       "  </tbody>\n",
       "</table>\n",
       "</div>"
      ],
      "text/plain": [
       "                                    title_and_review          topic\n",
       "0  __label__unsatisfied Umm....Get a life....a RE...    unsatisfied\n",
       "1  __label__book summary Yukkk! Please don't thin...   book summary\n",
       "2  __label__product issue A Disapointment Unfortu...  product issue\n",
       "3  __label__media ¿little Goldie influence? What ...          media\n",
       "4  __label__product issue It really didn't work a...  product issue\n",
       "5  __label__order related the DVD was damaged and...  order related\n",
       "6  __label__book summary Awful I struggled to rea...   book summary\n",
       "7  __label__book summary Is it only me ? I have r...   book summary\n",
       "8  __label__book summary Skeeter is Jar Jar Binks...   book summary\n",
       "9  __label__media Not the kind of DVD Heroes del ...          media"
      ]
     },
     "execution_count": 230,
     "metadata": {},
     "output_type": "execute_result"
    }
   ],
   "source": [
    "df[:10]"
   ]
  },
  {
   "cell_type": "code",
   "execution_count": 231,
   "metadata": {},
   "outputs": [],
   "source": [
    "!rm Data/labelled_reviews_short.csv\n",
    "df.to_csv(r'Data/labelled_reviews_short.csv')"
   ]
  },
  {
   "cell_type": "code",
   "execution_count": 232,
   "metadata": {},
   "outputs": [
    {
     "name": "stdout",
     "output_type": "stream",
     "text": [
      "upload: Data/labelled_reviews_short.csv to s3://phdata-nlp-s3-bucket/labelled_reviews_short.csv\n"
     ]
    }
   ],
   "source": [
    "!aws s3 cp Data/labelled_reviews_short.csv s3://phdata-nlp-s3-bucket/"
   ]
  },
  {
   "cell_type": "markdown",
   "metadata": {},
   "source": [
    "# Plotting the most common reasons/sources for negative reviews"
   ]
  },
  {
   "cell_type": "code",
   "execution_count": 236,
   "metadata": {},
   "outputs": [],
   "source": [
    "df_topic_counts=df.groupby(['topic']).size().reset_index(name='counts')\n",
    "df_topic_counts=df_topic_counts.sort_values(by='counts',ascending=False)"
   ]
  },
  {
   "cell_type": "code",
   "execution_count": 237,
   "metadata": {},
   "outputs": [
    {
     "data": {
      "image/png": "[encoded data removed]",
      "text/plain": [
       "<Figure size 640x480 with 1 Axes>"
      ]
     },
     "metadata": {},
     "output_type": "display_data"
    }
   ],
   "source": [
    "import matplotlib.pyplot as plt\n",
    "%matplotlib inline\n",
    "import numpy as np\n",
    "\n",
    "plt.rcdefaults()\n",
    "fig, ax = plt.subplots()\n",
    "\n",
    "y_pos = np.arange(5)\n",
    "performance = df_topic_counts['counts']\n",
    "\n",
    "ax.barh(df_topic_counts['topic'], performance, align='center')\n",
    "ax.set_yticks(y_pos)\n",
    "ax.invert_yaxis()  # labels read top-to-bottom\n",
    "ax.set_xlabel('Frequency')\n",
    "ax.set_title('Topic')\n",
    "\n",
    "plt.show()"
   ]
  },
  {
   "cell_type": "code",
   "execution_count": null,
   "metadata": {},
   "outputs": [],
   "source": []
  }
 ],
 "metadata": {
  "kernelspec": {
   "display_name": "conda_python3",
   "language": "python",
   "name": "conda_python3"
  },
  "language_info": {
   "codemirror_mode": {
    "name": "ipython",
    "version": 3
   },
   "file_extension": ".py",
   "mimetype": "text/x-python",
   "name": "python",
   "nbconvert_exporter": "python",
   "pygments_lexer": "ipython3",
   "version": "3.6.5"
  }
 },
 "nbformat": 4,
 "nbformat_minor": 2
}
