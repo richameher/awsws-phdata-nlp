{
 "cells": [
  {
   "cell_type": "code",
   "execution_count": 102,
   "metadata": {},
   "outputs": [],
   "source": [
    "import pandas as pd\n",
    "# !mkdir Data\n",
    "# !rm -rf Data/train.csv\n",
    "# !aws s3 cp s3://phdata-nlp-s3-bucket/train.csv  Data/\n",
    "# !wget https://s3.amazonaws.com/fast-ai-nlp/amazon_review_polarity_csv.tgz \n",
    "# !tar -xvzf amazon_review_polarity_csv.tgz\n",
    "# !rm -rf  amazon_review_polarity_csv\n",
    "# !mkdir -p Data/\n",
    "# !cp amazon_review_polarity_csv/train.csv Data/\n",
    "df = pd.read_csv(\"Data/combined_title_and_negative_reviews.csv\", names=[\"Review\"])"
   ]
  },
  {
   "cell_type": "code",
   "execution_count": 103,
   "metadata": {},
   "outputs": [
    {
     "data": {
      "text/html": [
       "<div>\n",
       "<style scoped>\n",
       "    .dataframe tbody tr th:only-of-type {\n",
       "        vertical-align: middle;\n",
       "    }\n",
       "\n",
       "    .dataframe tbody tr th {\n",
       "        vertical-align: top;\n",
       "    }\n",
       "\n",
       "    .dataframe thead th {\n",
       "        text-align: right;\n",
       "    }\n",
       "</style>\n",
       "<table border=\"1\" class=\"dataframe\">\n",
       "  <thead>\n",
       "    <tr style=\"text-align: right;\">\n",
       "      <th></th>\n",
       "      <th>Review</th>\n",
       "    </tr>\n",
       "  </thead>\n",
       "  <tbody>\n",
       "    <tr>\n",
       "      <th>0</th>\n",
       "      <td>Buyer beware This is a self-published book, an...</td>\n",
       "    </tr>\n",
       "    <tr>\n",
       "      <th>1</th>\n",
       "      <td>The Worst! A complete waste of time. Typograph...</td>\n",
       "    </tr>\n",
       "    <tr>\n",
       "      <th>2</th>\n",
       "      <td>Oh please I guess you have to be a romance nov...</td>\n",
       "    </tr>\n",
       "    <tr>\n",
       "      <th>3</th>\n",
       "      <td>Awful beyond belief! I feel I have to write to...</td>\n",
       "    </tr>\n",
       "    <tr>\n",
       "      <th>4</th>\n",
       "      <td>Another Abysmal Digital Copy Rather than scrat...</td>\n",
       "    </tr>\n",
       "    <tr>\n",
       "      <th>5</th>\n",
       "      <td>Batteries died within a year ... I bought this...</td>\n",
       "    </tr>\n",
       "    <tr>\n",
       "      <th>6</th>\n",
       "      <td>should be titled \"Hollywood Debacle\" The plot ...</td>\n",
       "    </tr>\n",
       "    <tr>\n",
       "      <th>7</th>\n",
       "      <td>Nothing you don't already know If you have eve...</td>\n",
       "    </tr>\n",
       "    <tr>\n",
       "      <th>8</th>\n",
       "      <td>Doesn't work on a Mac It clearly says on line ...</td>\n",
       "    </tr>\n",
       "    <tr>\n",
       "      <th>9</th>\n",
       "      <td>TERRIBLE!! DO NOT BUY THIS I bought this for m...</td>\n",
       "    </tr>\n",
       "  </tbody>\n",
       "</table>\n",
       "</div>"
      ],
      "text/plain": [
       "                                              Review\n",
       "0  Buyer beware This is a self-published book, an...\n",
       "1  The Worst! A complete waste of time. Typograph...\n",
       "2  Oh please I guess you have to be a romance nov...\n",
       "3  Awful beyond belief! I feel I have to write to...\n",
       "4  Another Abysmal Digital Copy Rather than scrat...\n",
       "5  Batteries died within a year ... I bought this...\n",
       "6  should be titled \"Hollywood Debacle\" The plot ...\n",
       "7  Nothing you don't already know If you have eve...\n",
       "8  Doesn't work on a Mac It clearly says on line ...\n",
       "9  TERRIBLE!! DO NOT BUY THIS I bought this for m..."
      ]
     },
     "execution_count": 103,
     "metadata": {},
     "output_type": "execute_result"
    }
   ],
   "source": [
    "df[:10]"
   ]
  },
  {
   "cell_type": "code",
   "execution_count": 5,
   "metadata": {},
   "outputs": [],
   "source": [
    "# df_negative=df[df[\"Label\"] == 2].filter(items=[\"Title\",\"Review\"]).count()\n",
    "# df['combined_title_and_review'] = df['Title'].astype(str) + \".\" + df['Review'].astype(str)"
   ]
  },
  {
   "cell_type": "code",
   "execution_count": 6,
   "metadata": {},
   "outputs": [],
   "source": [
    "!aws s3 cp s3://phdata-nlp-s3-bucket/output_from_comprehend/output.tar.gz ."
   ]
  },
  {
   "cell_type": "code",
   "execution_count": 7,
   "metadata": {},
   "outputs": [],
   "source": [
    "!tar -xvzf output.tar.gz"
   ]
  },
  {
   "cell_type": "code",
   "execution_count": 100,
   "metadata": {},
   "outputs": [],
   "source": [
    "df_doc_terms = pd.read_csv(\"doc-topics.csv\")\n",
    "df_top_terms=pd.read_csv(\"topic-terms.csv\")"
   ]
  },
  {
   "cell_type": "code",
   "execution_count": 99,
   "metadata": {},
   "outputs": [],
   "source": [
    "df_doc_terms['ranks']=df_doc_terms.groupby(by=['docname'])['proportion'].rank(method=\"first\", ascending=True)\n",
    "df_doc_terms[\"ranks\"] = df_doc_terms['ranks'].astype(int)\n",
    "df_doc_terms=df_doc_terms[df_doc_terms['ranks']==1]"
   ]
  },
  {
   "cell_type": "code",
   "execution_count": 52,
   "metadata": {},
   "outputs": [],
   "source": [
    "import numpy as np\n",
    "# df_top_terms[df_top_terms['topic']== 0]\n",
    "\n",
    "map_reviews= ['book','review','quality','operational','media','movie','music','battery life','order-related','enterntainment']\n",
    "dict_l={}\n",
    "l=[]\n",
    "\n",
    "for index, row in df_doc_terms.iterrows():\n",
    "    index_pos=int(row['docname'].split(\":\")[1]) \n",
    "    topic_no=int(row['topic'])\n",
    "    map_revews_colname=map_reviews[topic_no]\n",
    "#     if  str(index_pos) in dict_l:\n",
    "#         l=dict_l[index_pos]\n",
    "#         l.append(map_revews_colname)\n",
    "#         dict_l[index_pos]=l\n",
    "#     else:\n",
    "#     l=[]\n",
    "#     l.append(map_revews_colname)\n",
    "    dict_l[index_pos]=map_revews_colname\n",
    "    \n",
    "col_label=[]\n",
    "for key, value in sorted(dict_l.items(), key=lambda item: item[0]):\n",
    "    col_label.append(str(value))\n",
    "    \n",
    "df['topic']=pd.Series(col_label)"
   ]
  },
  {
   "cell_type": "code",
   "execution_count": 96,
   "metadata": {},
   "outputs": [
    {
     "data": {
      "text/html": [
       "<div>\n",
       "<style scoped>\n",
       "    .dataframe tbody tr th:only-of-type {\n",
       "        vertical-align: middle;\n",
       "    }\n",
       "\n",
       "    .dataframe tbody tr th {\n",
       "        vertical-align: top;\n",
       "    }\n",
       "\n",
       "    .dataframe thead th {\n",
       "        text-align: right;\n",
       "    }\n",
       "</style>\n",
       "<table border=\"1\" class=\"dataframe\">\n",
       "  <thead>\n",
       "    <tr style=\"text-align: right;\">\n",
       "      <th></th>\n",
       "      <th>Review</th>\n",
       "      <th>topic</th>\n",
       "    </tr>\n",
       "  </thead>\n",
       "  <tbody>\n",
       "    <tr>\n",
       "      <th>0</th>\n",
       "      <td>__label__book Buyer beware This is a self-publ...</td>\n",
       "      <td>book</td>\n",
       "    </tr>\n",
       "    <tr>\n",
       "      <th>1</th>\n",
       "      <td>__label__book The Worst! A complete waste of t...</td>\n",
       "      <td>book</td>\n",
       "    </tr>\n",
       "    <tr>\n",
       "      <th>2</th>\n",
       "      <td>__label__book Oh please I guess you have to be...</td>\n",
       "      <td>book</td>\n",
       "    </tr>\n",
       "    <tr>\n",
       "      <th>3</th>\n",
       "      <td>__label__book Awful beyond belief! I feel I ha...</td>\n",
       "      <td>book</td>\n",
       "    </tr>\n",
       "    <tr>\n",
       "      <th>4</th>\n",
       "      <td>__label__book Another Abysmal Digital Copy Rat...</td>\n",
       "      <td>book</td>\n",
       "    </tr>\n",
       "    <tr>\n",
       "      <th>5</th>\n",
       "      <td>__label__battery life Batteries died within a ...</td>\n",
       "      <td>battery life</td>\n",
       "    </tr>\n",
       "    <tr>\n",
       "      <th>6</th>\n",
       "      <td>__label__movie should be titled \"Hollywood Deb...</td>\n",
       "      <td>movie</td>\n",
       "    </tr>\n",
       "    <tr>\n",
       "      <th>7</th>\n",
       "      <td>__label__book Nothing you don't already know I...</td>\n",
       "      <td>book</td>\n",
       "    </tr>\n",
       "    <tr>\n",
       "      <th>8</th>\n",
       "      <td>__label__operational Doesn't work on a Mac It ...</td>\n",
       "      <td>operational</td>\n",
       "    </tr>\n",
       "    <tr>\n",
       "      <th>9</th>\n",
       "      <td>__label__enterntainment TERRIBLE!! DO NOT BUY ...</td>\n",
       "      <td>enterntainment</td>\n",
       "    </tr>\n",
       "  </tbody>\n",
       "</table>\n",
       "</div>"
      ],
      "text/plain": [
       "                                              Review           topic\n",
       "0  __label__book Buyer beware This is a self-publ...            book\n",
       "1  __label__book The Worst! A complete waste of t...            book\n",
       "2  __label__book Oh please I guess you have to be...            book\n",
       "3  __label__book Awful beyond belief! I feel I ha...            book\n",
       "4  __label__book Another Abysmal Digital Copy Rat...            book\n",
       "5  __label__battery life Batteries died within a ...    battery life\n",
       "6  __label__movie should be titled \"Hollywood Deb...           movie\n",
       "7  __label__book Nothing you don't already know I...            book\n",
       "8  __label__operational Doesn't work on a Mac It ...     operational\n",
       "9  __label__enterntainment TERRIBLE!! DO NOT BUY ...  enterntainment"
      ]
     },
     "execution_count": 96,
     "metadata": {},
     "output_type": "execute_result"
    }
   ],
   "source": [
    "df[:10]"
   ]
  },
  {
   "cell_type": "code",
   "execution_count": 55,
   "metadata": {},
   "outputs": [],
   "source": [
    "df['Review'] = \"__label__\"+df['topic'].astype(str) + \" \"+ df['Review'].astype(str)"
   ]
  },
  {
   "cell_type": "code",
   "execution_count": 57,
   "metadata": {},
   "outputs": [],
   "source": [
    "df.to_csv(r'Data/labelled_reviews.csv')"
   ]
  },
  {
   "cell_type": "code",
   "execution_count": 58,
   "metadata": {},
   "outputs": [
    {
     "name": "stdout",
     "output_type": "stream",
     "text": [
      "upload: Data/labelled_reviews.csv to s3://phdata-nlp-s3-bucket/labelled_reviews.csv\n"
     ]
    }
   ],
   "source": [
    "!aws s3 cp Data/labelled_reviews.csv s3://phdata-nlp-s3-bucket/"
   ]
  },
  {
   "cell_type": "code",
   "execution_count": 93,
   "metadata": {},
   "outputs": [],
   "source": [
    "df_topic_counts=df.groupby(['topic']).size().reset_index(name='counts')\n",
    "df_topic_counts=df_topic_counts.sort_values(by='counts',ascending=False)"
   ]
  },
  {
   "cell_type": "code",
   "execution_count": 98,
   "metadata": {},
   "outputs": [
    {
     "data": {
      "image/png": "[encoded data removed]",
      "text/plain": [
       "<Figure size 640x480 with 1 Axes>"
      ]
     },
     "metadata": {},
     "output_type": "display_data"
    }
   ],
   "source": [
    "import matplotlib.pyplot as plt\n",
    "%matplotlib inline\n",
    "import numpy as np\n",
    "\n",
    "plt.rcdefaults()\n",
    "fig, ax = plt.subplots()\n",
    "\n",
    "y_pos = np.arange(10)\n",
    "performance = df_topic_counts['counts']\n",
    "\n",
    "ax.barh(df_topic_counts['topic'], performance, align='center')\n",
    "ax.set_yticks(y_pos)\n",
    "ax.invert_yaxis()  # labels read top-to-bottom\n",
    "ax.set_xlabel('Frequency')\n",
    "ax.set_title('Topic')\n",
    "\n",
    "plt.show()"
   ]
  },
  {
   "cell_type": "code",
   "execution_count": null,
   "metadata": {},
   "outputs": [],
   "source": []
  },
  {
   "cell_type": "code",
   "execution_count": null,
   "metadata": {},
   "outputs": [],
   "source": []
  },
  {
   "cell_type": "code",
   "execution_count": null,
   "metadata": {},
   "outputs": [],
   "source": []
  }
 ],
 "metadata": {
  "kernelspec": {
   "display_name": "conda_python3",
   "language": "python",
   "name": "conda_python3"
  },
  "language_info": {
   "codemirror_mode": {
    "name": "ipython",
    "version": 3
   },
   "file_extension": ".py",
   "mimetype": "text/x-python",
   "name": "python",
   "nbconvert_exporter": "python",
   "pygments_lexer": "ipython3",
   "version": "3.6.5"
  }
 },
 "nbformat": 4,
 "nbformat_minor": 2
}
