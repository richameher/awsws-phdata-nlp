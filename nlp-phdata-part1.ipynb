{
 "cells": [
  {
   "cell_type": "markdown",
   "metadata": {},
   "source": [
    "# Initial Data Load"
   ]
  },
  {
   "cell_type": "code",
   "execution_count": 1,
   "metadata": {},
   "outputs": [
    {
     "name": "stderr",
     "output_type": "stream",
     "text": [
      "/home/ec2-user/anaconda3/envs/python3/lib/python3.6/site-packages/ipykernel/__main__.py:20: SettingWithCopyWarning: \n",
      "A value is trying to be set on a copy of a slice from a DataFrame.\n",
      "Try using .loc[row_indexer,col_indexer] = value instead\n",
      "\n",
      "See the caveats in the documentation: http://pandas.pydata.org/pandas-docs/stable/indexing.html#indexing-view-versus-copy\n"
     ]
    }
   ],
   "source": [
    "import sagemaker\n",
    "from sagemaker import get_execution_role\n",
    "import json\n",
    "import boto3\n",
    "import pandas as pd\n",
    "\n",
    "#Had trouble using the SageMaker role to connect to S3 and other services\n",
    "sess = sagemaker.Session()\n",
    "role = get_execution_role()\n",
    "\n",
    "bucket = 'phdata-nlp-s3-bucket'\n",
    "prefix = 'comprehend-input'\n",
    "region_name = boto3.Session().region_name\n",
    "\n",
    "#Read in CSV into dataframe\n",
    "train_df = pd.read_csv(\"data/train.csv\", names=[\"Label\", \"Title\", \"Review\"])\n",
    "\n",
    "#Extract negative reviews and combine the title and review text into one column\n",
    "neg_df = train_df[train_df[\"Label\"] == 1]\n",
    "neg_df[\"title_and_review\"] = neg_df[\"Title\"].astype(str) + \" \" + neg_df[\"Review\"].astype(str)\n",
    "neg_df = neg_df.filter(items = [\"title_and_review\"])\n",
    "\n",
    "#Grab random sample of data. For reproducability, a seed would be set here\n",
    "neg_df_samp = neg_df.sample(frac = 0.2)\n",
    "\n",
    "#Write resulting sample to a csv\n",
    "neg_df_samp.to_csv(\"data/sample_neg_reviews.csv\")"
   ]
  },
  {
   "cell_type": "code",
   "execution_count": null,
   "metadata": {},
   "outputs": [],
   "source": [
    "#Copy over to S3 bucket. (Had trouble programmatically doing so from Notebook)\n",
    "!aws s3 cp data/sample_neg_reviews.csv s3://phdata-nlp-s3-bucket/comprehend-input/\n",
    "\n",
    "#Input the data to Comprehend to receive output matrices\n",
    "!aws comprehend start-topics-detection-job --number-of-topics 5 --job-name \"phdata-comprehend-job\" --region region_name --cli-input-json comp.json"
   ]
  }
 ],
 "metadata": {
  "kernelspec": {
   "display_name": "conda_python3",
   "language": "python",
   "name": "conda_python3"
  },
  "language_info": {
   "codemirror_mode": {
    "name": "ipython",
    "version": 3
   },
   "file_extension": ".py",
   "mimetype": "text/x-python",
   "name": "python",
   "nbconvert_exporter": "python",
   "pygments_lexer": "ipython3",
   "version": "3.6.5"
  }
 },
 "nbformat": 4,
 "nbformat_minor": 2
}
